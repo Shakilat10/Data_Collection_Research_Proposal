{
 "cells": [
  {
   "cell_type": "code",
   "execution_count": 37,
   "id": "30656042-41d5-44f9-a03e-8ddda7e9d2a8",
   "metadata": {},
   "outputs": [],
   "source": [
    "import numpy as np\n",
    "import pandas as pd\n",
    "from scipy.stats import chi2_contingency"
   ]
  },
  {
   "cell_type": "code",
   "execution_count": 63,
   "id": "8ddfea01-d096-4878-916b-a01c617982df",
   "metadata": {},
   "outputs": [],
   "source": [
    "#Original data from the survey\n",
    "impact_on_later_life = [\n",
    "    \"strongly agree\", \"agree\", \"neutral\", \"strongly disagree\", \"agree\", \"strongly disagree\", \n",
    "    \"strongly agree\", \"strongly disagree\", \"agree\", \"neutral\", \"strongly agree\", \"strongly agree\", \n",
    "    \"neutral\", \"neutral\", \"strongly agree\", \"strongly agree\", \"neutral\", \"agree\", \"agree\", \"neutral\", \n",
    "    \"strongly disagree\", \"agree\", \"strongly agree\", \"agree\", \"agree\", \"strongly agree\", \n",
    "    \"strongly agree\", \"strongly agree\", \"strongly agree\", \"agree\", \"strongly agree\", \n",
    "    \"strongly agree\", \"strongly agree\", \"strongly agree\", \"neutral\", \"agree\", \"strongly agree\", \n",
    "    \"agree\", \"strongly agree\", \"strongly agree\", \"neutral\", \"disagree\", \"strongly agree\", \n",
    "    \"agree\", \"neutral\", \"disagree\", \"neutral\", \"neutral\", \"neutral\", \"neutral\", \"disagree\"\n",
    "]\n",
    " \n",
    "physical_abuse = [\n",
    "    \"yes\", \"yes\", \"yes\", \"no\", \"no\", \"no\", \"yes\", \"no\", \"yes\", \"no\", \"yes\", \"yes\", \"yes\", \"yes\", \n",
    "    \"yes\", \"yes\", \"yes\", \"yes\", \"yes\", \"yes\", \"yes\", \"yes\", \"yes\", \"yes\", \"yes\", \"yes\", \"yes\", \n",
    "    \"yes\", \"yes\", \"no\", \"yes\", \"yes\", \"yes\", \"yes\", \"yes\", \"no\", \"no\", \"yes\", \"yes\", \"no\", \"yes\", \n",
    "    \"yes\", \"yes\", \"yes\", \"yes\", \"no\", \"yes\", \"yes\", \"yes\", \"no\", \"no\", \"yes\"\n",
    "]\n",
    " \n",
    "\n"
   ]
  },
  {
   "cell_type": "code",
   "execution_count": 43,
   "id": "01b3ed9e-6ac3-431a-b0b5-0a0c044e7ede",
   "metadata": {},
   "outputs": [],
   "source": [
    "#Initialize the counts\n",
    "count_yes = {\"Strongly Agree\": 0, \"Agree\": 0, \"Neutral\": 0, \"Disagree\": 0, \"Strongly Disagree\": 0}\n",
    "count_no = {\"Strongly Agree\": 0, \"Agree\": 0, \"Neutral\": 0, \"Disagree\": 0, \"Strongly Disagree\": 0}\n"
   ]
  },
  {
   "cell_type": "code",
   "execution_count": 45,
   "id": "6870f9cd-4e2f-467b-bbe8-ea11866a3851",
   "metadata": {},
   "outputs": [],
   "source": [
    "for abuse, impact in zip(physical_abuse, impact_on_later_life):\n",
    "    impact = impact.title()  \n",
    "    if abuse == \"yes\":\n",
    "        if impact in count_yes:\n",
    "            count_yes[impact] += 1\n",
    "    else:\n",
    "        if impact in count_no:\n",
    "            count_no[impact] += 1\n"
   ]
  },
  {
   "cell_type": "code",
   "execution_count": 47,
   "id": "1692a779-751f-467c-9d55-ab4aafa79e81",
   "metadata": {},
   "outputs": [
    {
     "name": "stdout",
     "output_type": "stream",
     "text": [
      "Counts for Physical Abuse = Yes:\n",
      "{'Strongly Agree': 17, 'Agree': 9, 'Neutral': 11, 'Disagree': 1, 'Strongly Disagree': 1}\n",
      "\n",
      "Counts for Physical Abuse = No:\n",
      "{'Strongly Agree': 2, 'Agree': 3, 'Neutral': 2, 'Disagree': 2, 'Strongly Disagree': 3}\n"
     ]
    }
   ],
   "source": [
    "#Print the counts\n",
    "print(\"Counts for Physical Abuse = Yes:\")\n",
    "print(count_yes)\n",
    "print(\"\\nCounts for Physical Abuse = No:\")\n",
    "print(count_no)\n"
   ]
  },
  {
   "cell_type": "code",
   "execution_count": 49,
   "id": "92b04fca-1aa5-4001-a81e-162491a0dd1d",
   "metadata": {},
   "outputs": [],
   "source": [
    "#prepare data for chi-square and contingency table\n",
    "data = np.array([\n",
    "    [count_yes[\"Strongly Agree\"], count_yes[\"Agree\"], count_yes[\"Neutral\"], count_yes[\"Disagree\"], count_yes[\"Strongly Disagree\"]],\n",
    "    [count_no[\"Strongly Agree\"], count_no[\"Agree\"], count_no[\"Neutral\"], count_no[\"Disagree\"], count_no[\"Strongly Disagree\"]]\n",
    "])\n"
   ]
  },
  {
   "cell_type": "code",
   "execution_count": 51,
   "id": "74073fb6-4d73-4af5-a3a6-3fcbd6fe4728",
   "metadata": {},
   "outputs": [
    {
     "name": "stdout",
     "output_type": "stream",
     "text": [
      "\n",
      "Contingency Table:\n",
      "     Strongly Agree  Agree  Neutral  Disagree  Strongly Disagree\n",
      "Yes              17      9       11         1                  1\n",
      "No                2      3        2         2                  3\n"
     ]
    }
   ],
   "source": [
    "#Set DataFrame\n",
    "df = pd.DataFrame(data, columns=['Strongly Agree', 'Agree', 'Neutral', 'Disagree', 'Strongly Disagree'], index=['Yes', 'No'])\n",
    "print(\"\\nContingency Table:\")\n",
    "print(df)\n"
   ]
  },
  {
   "cell_type": "code",
   "execution_count": 53,
   "id": "ad18bdf3-4ad9-4ed8-ba22-809a039fbcc9",
   "metadata": {},
   "outputs": [],
   "source": [
    "#Chi-square test\n",
    "chi2, p, dof, expected = chi2_contingency(data)"
   ]
  },
  {
   "cell_type": "code",
   "execution_count": 55,
   "id": "c86269fc-7ee9-4c09-94ad-2dc5d7e1f799",
   "metadata": {},
   "outputs": [
    {
     "name": "stdout",
     "output_type": "stream",
     "text": [
      "\n",
      "Chi-Square statistic: 11.271125298453232\n",
      "P-value: 0.023680125128136505\n",
      "Degrees of freedom: 4\n",
      "\n",
      "Expected frequencies:\n",
      "     Strongly Agree     Agree   Neutral  Disagree  Strongly Disagree\n",
      "Yes       14.529412  9.176471  9.941176  2.294118           3.058824\n",
      "No         4.470588  2.823529  3.058824  0.705882           0.941176\n"
     ]
    }
   ],
   "source": [
    "#Chi-square test results\n",
    "print(f\"\\nChi-Square statistic: {chi2}\")\n",
    "print(f\"P-value: {p}\")\n",
    "print(f\"Degrees of freedom: {dof}\")\n",
    "print(\"\\nExpected frequencies:\")\n",
    "print(pd.DataFrame(expected, columns=['Strongly Agree', 'Agree', 'Neutral', 'Disagree', 'Strongly Disagree'], index=['Yes', 'No']))\n"
   ]
  },
  {
   "cell_type": "code",
   "execution_count": null,
   "id": "0958ea6f-3fd6-494c-9083-db9cdf3e2de7",
   "metadata": {},
   "outputs": [],
   "source": []
  },
  {
   "cell_type": "code",
   "execution_count": null,
   "id": "ff4b4941-628f-4153-9b8d-b129737dc7a8",
   "metadata": {},
   "outputs": [],
   "source": []
  },
  {
   "cell_type": "code",
   "execution_count": null,
   "id": "69ed5e47-6b7a-4a77-9e1a-f0a3293c8b92",
   "metadata": {},
   "outputs": [],
   "source": []
  },
  {
   "cell_type": "code",
   "execution_count": null,
   "id": "904420af-b0ea-4109-8aef-e3325632cbfa",
   "metadata": {},
   "outputs": [],
   "source": []
  },
  {
   "cell_type": "code",
   "execution_count": 65,
   "id": "bf186220-0bca-4217-8fdf-55e9494454c2",
   "metadata": {},
   "outputs": [
    {
     "name": "stdout",
     "output_type": "stream",
     "text": [
      "\n",
      "There is a significant association between physical abuse and the impact in later life.\n"
     ]
    }
   ],
   "source": [
    "#Calculate the P valye\n",
    "alpha = 0.05\n",
    "if p < alpha:\n",
    "    print(\"\\nThere is a significant association between physical abuse and the impact in later life.\")\n",
    "else:\n",
    "    print(\"\\nThere is no significant association between physical abuse and the impact in later life.\")\n"
   ]
  },
  {
   "cell_type": "code",
   "execution_count": null,
   "id": "f7d9ad2e-c420-4e01-9a1b-bc1c69e3d290",
   "metadata": {},
   "outputs": [],
   "source": []
  },
  {
   "cell_type": "code",
   "execution_count": null,
   "id": "2e92434d-a361-4c4a-bc87-85a823b4f47a",
   "metadata": {},
   "outputs": [],
   "source": []
  },
  {
   "cell_type": "code",
   "execution_count": null,
   "id": "5f2faef5-d157-48d2-8709-10721900efe4",
   "metadata": {},
   "outputs": [],
   "source": []
  }
 ],
 "metadata": {
  "kernelspec": {
   "display_name": "Python 3 (ipykernel)",
   "language": "python",
   "name": "python3"
  },
  "language_info": {
   "codemirror_mode": {
    "name": "ipython",
    "version": 3
   },
   "file_extension": ".py",
   "mimetype": "text/x-python",
   "name": "python",
   "nbconvert_exporter": "python",
   "pygments_lexer": "ipython3",
   "version": "3.12.4"
  }
 },
 "nbformat": 4,
 "nbformat_minor": 5
}
